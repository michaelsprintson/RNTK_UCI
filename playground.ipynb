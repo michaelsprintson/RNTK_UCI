{
 "metadata": {
  "language_info": {
   "codemirror_mode": {
    "name": "ipython",
    "version": 3
   },
   "file_extension": ".py",
   "mimetype": "text/x-python",
   "name": "python",
   "nbconvert_exporter": "python",
   "pygments_lexer": "ipython3",
   "version": "3.7.9"
  },
  "orig_nbformat": 4,
  "kernelspec": {
   "name": "rntkvenv",
   "display_name": "Python 3.7.9  ('RNTKVENV': venv)"
  }
 },
 "nbformat": 4,
 "nbformat_minor": 2,
 "cells": [
  {
   "cell_type": "code",
   "execution_count": 1,
   "metadata": {},
   "outputs": [],
   "source": [
    " %load_ext autoreload\n",
    " %autoreload 2"
   ]
  },
  {
   "cell_type": "code",
   "execution_count": 26,
   "metadata": {},
   "outputs": [],
   "source": [
    "import numpy as np\n",
    "import tools, RNTK_avg\n",
    "import jax\n",
    "import symjax\n",
    "import symjax.tensor as T\n",
    "from ray_rntk import *\n",
    "import json"
   ]
  },
  {
   "cell_type": "code",
   "execution_count": 3,
   "metadata": {},
   "outputs": [],
   "source": [
    "Ti = 2\n",
    "TiPrime = 2"
   ]
  },
  {
   "cell_type": "code",
   "execution_count": 4,
   "metadata": {},
   "outputs": [],
   "source": [
    "dataset = \"trains\""
   ]
  },
  {
   "cell_type": "code",
   "execution_count": 5,
   "metadata": {},
   "outputs": [],
   "source": [
    "dic = {k:v for k,v in map(lambda x : x.split(), open(\"data\" + \"/\" + dataset + \"/\" + dataset + \".txt\", \"r\").readlines())}"
   ]
  },
  {
   "cell_type": "code",
   "execution_count": 6,
   "metadata": {},
   "outputs": [],
   "source": [
    "N = int(dic[\"n_patrons1=\"])\n",
    "length = int(dic[\"n_entradas=\"])"
   ]
  },
  {
   "cell_type": "code",
   "execution_count": 7,
   "metadata": {},
   "outputs": [],
   "source": [
    "rntk = RNTKTEST(dic)"
   ]
  },
  {
   "cell_type": "code",
   "execution_count": 8,
   "metadata": {},
   "outputs": [],
   "source": [
    "DATA = T.Placeholder((N, length), 'float32')\n",
    "x = DATA[:,0]\n",
    "X = x*x[:, None]\n",
    "n = X.shape[0]"
   ]
  },
  {
   "cell_type": "code",
   "execution_count": 9,
   "metadata": {},
   "outputs": [],
   "source": [
    "# RNTK,GP = RNTK_avg.RNTK.RNTK_first(rntk,DATA[:,0])"
   ]
  },
  {
   "cell_type": "code",
   "execution_count": 10,
   "metadata": {},
   "outputs": [],
   "source": [
    "l=1"
   ]
  },
  {
   "source": [
    "## LAYER ZERO ATTEMPT\n"
   ],
   "cell_type": "markdown",
   "metadata": {}
  },
  {
   "cell_type": "code",
   "execution_count": 11,
   "metadata": {},
   "outputs": [
    {
     "output_type": "stream",
     "name": "stderr",
     "text": [
      "2021-06-21 16:02:36,091\tINFO services.py:1274 -- View the Ray dashboard at \u001b[1m\u001b[32mhttp://127.0.0.1:8265\u001b[39m\u001b[22m\n"
     ]
    }
   ],
   "source": [
    "import ray\n",
    "try:\n",
    "    ray.init()\n",
    "except:\n",
    "    ray.shutdown()\n",
    "    ray.init()"
   ]
  },
  {
   "cell_type": "code",
   "execution_count": 12,
   "metadata": {},
   "outputs": [
    {
     "output_type": "stream",
     "name": "stdout",
     "text": [
      "called 2 0\ncalled 1 0\ncalled 0 0\ncalled 0 1\ncalled 0 2\n"
     ]
    }
   ],
   "source": [
    "switch_flag = 1\n",
    "dim_1_i = dim_1 = 2\n",
    "dim_2 = 2\n",
    "dim_2_i = 0\n",
    "dim_num = dim_1 + dim_2 + 1\n",
    "\n",
    "actor = RNTKActor.remote(dim_1, dim_2, dic)\n",
    "\n",
    "for d in range(0,dim_num):\n",
    "    tiprime = dim_1_i\n",
    "    ti = dim_2_i\n",
    "`\n",
    "    print(f\"called {tiprime} {ti}\")\n",
    "    diag_func.remote(actor, rntk, tiprime, ti, dim_1, dim_2, n)\n",
    "\n",
    "    if dim_1_i == 0:\n",
    "        switch_flag -= 1\n",
    "    else:\n",
    "        dim_1_i = dim_1_i - 1\n",
    "    if switch_flag <= 0:\n",
    "        dim_2_i = dim_2_i + 1"
   ]
  },
  {
   "cell_type": "code",
   "execution_count": 30,
   "metadata": {},
   "outputs": [],
   "source": [
    "phi_r = ray.get(actor.get_phi.remote())\n",
    "lambda_r = ray.get(actor.get_lambda.remote())\n",
    "# print(phi_r)\n",
    "# print(lambda_r)"
   ]
  },
  {
   "cell_type": "code",
   "execution_count": 21,
   "metadata": {},
   "outputs": [
    {
     "output_type": "stream",
     "name": "stderr",
     "text": [
      "WARNING:absl:No GPU/TPU found, falling back to CPU. (Set TF_CPP_MIN_LOG_LEVEL=0 and rerun for more info.)\n"
     ]
    }
   ],
   "source": [
    "test = rntk.sh ** 2 * rntk.sw ** 2 * T.eye(n, n) + (rntk.su ** 2) + rntk.sb ** 2"
   ]
  },
  {
   "cell_type": "code",
   "execution_count": 32,
   "metadata": {},
   "outputs": [],
   "source": [
    "type()"
   ]
  },
  {
   "cell_type": "code",
   "execution_count": 29,
   "metadata": {},
   "outputs": [],
   "source": [
    "with open(\"test.json\", \"w\") as file:\n",
    "    json.dump(lambda_r[0,0,0].__str__(), file)"
   ]
  },
  {
   "cell_type": "code",
   "execution_count": 17,
   "metadata": {},
   "outputs": [
    {
     "output_type": "execute_result",
     "data": {
      "text/plain": [
       "['inner iteration - 2 - 0',\n",
       " 'inner iteration - 1 - 0',\n",
       " 'inner iteration - 0 - 2',\n",
       " 'inner iteration - 0 - 1',\n",
       " 'inner iteration - 0 - 0',\n",
       " 'inner iteration test value - Op(name=add_1, fn=add, shape=(10, 10), dtype=float32, scope=/default)',\n",
       " 'inner iteration test value - Op(name=add_1, fn=add, shape=(10, 10), dtype=float32, scope=/default)',\n",
       " 'inner iteration test value - Op(name=add_1, fn=add, shape=(10, 10), dtype=float32, scope=/default)',\n",
       " 'inner iteration - 1 - 2',\n",
       " 'inner iteration test value - Op(name=add_1, fn=add, shape=(10, 10), dtype=float32, scope=/default)',\n",
       " 'inner iteration - 2 - 1',\n",
       " 'inner iteration test value - Op(name=add_1, fn=add, shape=(10, 10), dtype=float32, scope=/default)',\n",
       " 'inner iteration - 1 - 1']"
      ]
     },
     "metadata": {},
     "execution_count": 17
    }
   ],
   "source": [
    "ray.get(actor.get_and_clear_messages.remote())"
   ]
  },
  {
   "cell_type": "code",
   "execution_count": 15,
   "metadata": {
    "tags": []
   },
   "outputs": [
    {
     "output_type": "stream",
     "name": "stdout",
     "text": [
      "\u001b[2m\u001b[36m(pid=58922)\u001b[0m inner iteration test value -  Op(name=add_1, fn=add, shape=(10, 10), dtype=float32, scope=/default)\n\u001b[2m\u001b[36m(pid=58922)\u001b[0m inner iteration -  2 1\n\u001b[2m\u001b[36m(pid=58921)\u001b[0m inner iteration test value -  Op(name=add_1, fn=add, shape=(10, 10), dtype=float32, scope=/default)\n\u001b[2m\u001b[36m(pid=58917)\u001b[0m inner iteration test value -  Op(name=add_1, fn=add, shape=(10, 10), dtype=float32, scope=/default)\n\u001b[2m\u001b[36m(pid=58923)\u001b[0m inner iteration test value -  Op(name=add_1, fn=add, shape=(10, 10), dtype=float32, scope=/default)\n\u001b[2m\u001b[36m(pid=58923)\u001b[0m inner iteration -  1 2\n\u001b[2m\u001b[36m(pid=58913)\u001b[0m inner iteration test value -  Op(name=add_1, fn=add, shape=(10, 10), dtype=float32, scope=/default)\n\u001b[2m\u001b[36m(pid=58913)\u001b[0m inner iteration -  1 1\n"
     ]
    },
    {
     "output_type": "error",
     "ename": "NameError",
     "evalue": "name 'asdfadsfa' is not defined",
     "traceback": [
      "\u001b[0;31m---------------------------------------------------------------------------\u001b[0m",
      "\u001b[0;31mNameError\u001b[0m                                 Traceback (most recent call last)",
      "\u001b[0;32m<ipython-input-15-8ca200b816c7>\u001b[0m in \u001b[0;36m<module>\u001b[0;34m\u001b[0m\n\u001b[0;32m----> 1\u001b[0;31m \u001b[0masdfadsfa\u001b[0m\u001b[0;34m\u001b[0m\u001b[0;34m\u001b[0m\u001b[0m\n\u001b[0m",
      "\u001b[0;31mNameError\u001b[0m: name 'asdfadsfa' is not defined"
     ]
    }
   ],
   "source": [
    "asdfadsfa"
   ]
  },
  {
   "source": [
    "## MISC LOOKING AT OBJECT FORMATS"
   ],
   "cell_type": "markdown",
   "metadata": {}
  },
  {
   "cell_type": "code",
   "execution_count": 16,
   "metadata": {},
   "outputs": [
    {
     "output_type": "error",
     "ename": "NameError",
     "evalue": "name 'gp_new' is not defined",
     "traceback": [
      "\u001b[0;31m---------------------------------------------------------------------------\u001b[0m",
      "\u001b[0;31mNameError\u001b[0m                                 Traceback (most recent call last)",
      "\u001b[0;32m<ipython-input-16-ee06e0100a4b>\u001b[0m in \u001b[0;36m<module>\u001b[0;34m\u001b[0m\n\u001b[0;32m----> 1\u001b[0;31m \u001b[0mS_new\u001b[0m\u001b[0;34m,\u001b[0m\u001b[0mD_new\u001b[0m \u001b[0;34m=\u001b[0m \u001b[0mrntk\u001b[0m\u001b[0;34m.\u001b[0m\u001b[0mVT\u001b[0m\u001b[0;34m(\u001b[0m\u001b[0mgp_new\u001b[0m\u001b[0;34m[\u001b[0m\u001b[0ml\u001b[0m\u001b[0;34m-\u001b[0m\u001b[0;36m1\u001b[0m\u001b[0;34m]\u001b[0m\u001b[0;34m)\u001b[0m\u001b[0;34m\u001b[0m\u001b[0;34m\u001b[0m\u001b[0m\n\u001b[0m",
      "\u001b[0;31mNameError\u001b[0m: name 'gp_new' is not defined"
     ]
    }
   ],
   "source": [
    "S_new,D_new = rntk.VT(gp_new[l-1])"
   ]
  },
  {
   "cell_type": "code",
   "execution_count": 115,
   "metadata": {},
   "outputs": [
    {
     "output_type": "execute_result",
     "data": {
      "text/plain": [
       "Op(name=multiply_137, fn=multiply, shape=(10, 10), dtype=float32, scope=/default)"
      ]
     },
     "metadata": {},
     "execution_count": 115
    }
   ],
   "source": [
    "S_new"
   ]
  },
  {
   "cell_type": "code",
   "execution_count": 116,
   "metadata": {},
   "outputs": [
    {
     "output_type": "execute_result",
     "data": {
      "text/plain": [
       "Op(name=true_divide_19, fn=true_divide, shape=(10, 10), dtype=float32, scope=/default)"
      ]
     },
     "metadata": {},
     "execution_count": 116
    }
   ],
   "source": [
    "D_new"
   ]
  },
  {
   "cell_type": "code",
   "execution_count": 117,
   "metadata": {},
   "outputs": [],
   "source": [
    "extra = rntk.sh ** 2 * rntk.sw ** 2 * T.eye(n, n) + rntk.su**2 * S_new + rntk.sb**2"
   ]
  },
  {
   "cell_type": "code",
   "execution_count": 118,
   "metadata": {},
   "outputs": [],
   "source": [
    "new = T.expand_dims(extra,axis = 0)"
   ]
  },
  {
   "cell_type": "code",
   "execution_count": 119,
   "metadata": {},
   "outputs": [
    {
     "output_type": "execute_result",
     "data": {
      "text/plain": [
       "Op(name=expand_dims_27, fn=expand_dims, shape=(1, 10, 10), dtype=float32, scope=/default)"
      ]
     },
     "metadata": {},
     "execution_count": 119
    }
   ],
   "source": [
    "new"
   ]
  },
  {
   "cell_type": "code",
   "execution_count": 120,
   "metadata": {},
   "outputs": [],
   "source": [
    "gp_new = T.concatenate([gp_new,new]) #line 4, alg 1"
   ]
  },
  {
   "cell_type": "code",
   "execution_count": 121,
   "metadata": {},
   "outputs": [
    {
     "output_type": "execute_result",
     "data": {
      "text/plain": [
       "Op(name=concatenate_13, fn=concatenate, shape=(3, 10, 10), dtype=float32, scope=/default)"
      ]
     },
     "metadata": {},
     "execution_count": 121
    }
   ],
   "source": [
    "gp_new"
   ]
  },
  {
   "source": [
    "## MIDDLE RNTK OBJECT TYPES"
   ],
   "cell_type": "markdown",
   "metadata": {}
  },
  {
   "source": [
    "T.transpose(DATA[:, 1:])"
   ],
   "cell_type": "code",
   "metadata": {},
   "execution_count": 122,
   "outputs": [
    {
     "output_type": "execute_result",
     "data": {
      "text/plain": [
       "Op(name=transpose_10, fn=transpose, shape=(28, 10), dtype=float32, scope=/default)"
      ]
     },
     "metadata": {},
     "execution_count": 122
    }
   ]
  },
  {
   "cell_type": "code",
   "execution_count": 123,
   "metadata": {},
   "outputs": [
    {
     "output_type": "execute_result",
     "data": {
      "text/plain": [
       "Op(name=stack_10, fn=stack, shape=(2, 2, 10, 10), dtype=float32, scope=/default)"
      ]
     },
     "metadata": {},
     "execution_count": 123
    }
   ],
   "source": [
    "T.stack([RNTK,GP])"
   ]
  },
  {
   "cell_type": "code",
   "execution_count": 124,
   "metadata": {},
   "outputs": [
    {
     "output_type": "stream",
     "name": "stdout",
     "text": [
      "a[0] Op(name=_rewriting_take_56, fn=_rewriting_take, shape=(2, 10, 10), dtype=float32, scope=/default)\na[1] Op(name=_rewriting_take_57, fn=_rewriting_take, shape=(2, 10, 10), dtype=float32, scope=/default)\nB Placeholder(name=_19, shape=(10,), dtype=float32, scope=/default)\n"
     ]
    }
   ],
   "source": [
    "r1, r2 = T.scan(lambda a,b:middletest(a,b),sequences=[ T.transpose(DATA[:, 1:]) ], init=T.stack([RNTK,GP]))"
   ]
  },
  {
   "cell_type": "code",
   "execution_count": 125,
   "metadata": {},
   "outputs": [],
   "source": [
    "def middletest(a,b):\n",
    "    # print(\"A\", a)\n",
    "    print(\"a[0]\", a[0])\n",
    "    print(\"a[1]\", a[1])\n",
    "    print(\"B\", b)\n",
    "    return a,b"
   ]
  },
  {
   "cell_type": "code",
   "execution_count": null,
   "metadata": {},
   "outputs": [],
   "source": []
  },
  {
   "cell_type": "code",
   "execution_count": null,
   "metadata": {},
   "outputs": [],
   "source": []
  },
  {
   "cell_type": "code",
   "execution_count": null,
   "metadata": {},
   "outputs": [],
   "source": []
  }
 ]
}